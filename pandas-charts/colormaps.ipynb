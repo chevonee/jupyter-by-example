{
 "cells": [
  {
   "cell_type": "markdown",
   "id": "596c1b3c-6b1b-438d-9ad3-15d791bd7ea0",
   "metadata": {},
   "source": [
    "# Matplotlib Colors and Colormaps\n",
    "\n",
    "Matplotlib provides a set of [named colors](https://matplotlib.org/stable/gallery/color/named_colors.html#base-colors), in addition to the ability to use colors in hex format (`#RRGGBB`) and as a tuple of normalized RGB values (triple of `[0.0, 1.0]` RGB values). In addition to single colors, there are [named colormaps](https://matplotlib.org/stable/gallery/color/colormap_reference.html), and you can also build your own from e.g. a list of single colors.\n",
    "\n",
    "Also see the [cmasher](https://github.com/jhermann/jupyter-by-example/blob/master/pandas-charts/cmasher.ipynb) notebook for a pure Python package with more named colormaps and some utility functions that help working with colormaps."
   ]
  },
  {
   "cell_type": "markdown",
   "id": "a6c4dacf-621a-475e-9c1c-0e198ebc3469",
   "metadata": {},
   "source": [
    "**Table of Contents**\n",
    "- [Basic Imports](#Basic-Imports)\n",
    "- [Custom Colormap From a List of Colors](#Custom-Colormap-From-a-List-of-Colors)"
   ]
  },
  {
   "cell_type": "markdown",
   "id": "ef3f78ab-0413-46cb-bf3d-1a6abcbae239",
   "metadata": {},
   "source": [
    "## Basic Imports"
   ]
  },
  {
   "cell_type": "code",
   "execution_count": null,
   "id": "cb96641a-e1c5-4be4-a4dd-607d5c6a1a37",
   "metadata": {},
   "outputs": [],
   "source": [
    "from pprint import pprint as pp\n",
    "\n",
    "import pandas as pd\n",
    "import matplotlib as mpl\n",
    "import matplotlib.pyplot as plt\n",
    "from IPython.display import display, HTML\n",
    "\n",
    "mpl.style.use('ggplot')"
   ]
  },
  {
   "cell_type": "code",
   "execution_count": null,
   "id": "b165744c-5202-4223-a599-78cbe19e2263",
   "metadata": {},
   "outputs": [],
   "source": [
    "# Create an example dataframe\n",
    "df = pd.DataFrame(\n",
    "    {'label': list('ABCDEF'), \n",
    "     'value': [10, 30, 20, 42, 8, 15]})\n",
    "df"
   ]
  },
  {
   "cell_type": "markdown",
   "id": "d58647c3-a384-4a90-b168-b2cc1ae70e6a",
   "metadata": {},
   "source": [
    "## Custom Colormap From a List of Colors\n",
    "The [ListedColormap](https://matplotlib.org/stable/api/_as_gen/matplotlib.colors.ListedColormap.html) class takes a list of colors and creates a map from them."
   ]
  },
  {
   "cell_type": "code",
   "execution_count": null,
   "id": "0c2ec512-137f-4b1d-b341-1dc8fab48888",
   "metadata": {},
   "outputs": [],
   "source": [
    "cmap = mpl.colors.ListedColormap(['crimson', 'forestgreen'])\n",
    "ax = df[:2].set_index('label').plot.pie(y='value', table=True, colormap=cmap)"
   ]
  }
 ],
 "metadata": {
  "kernelspec": {
   "display_name": "Python 3 (ipykernel)",
   "language": "python",
   "name": "python3"
  },
  "language_info": {
   "codemirror_mode": {
    "name": "ipython",
    "version": 3
   },
   "file_extension": ".py",
   "mimetype": "text/x-python",
   "name": "python",
   "nbconvert_exporter": "python",
   "pygments_lexer": "ipython3",
   "version": "3.9.2"
  }
 },
 "nbformat": 4,
 "nbformat_minor": 5
}
